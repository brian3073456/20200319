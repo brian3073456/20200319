{
  "nbformat": 4,
  "nbformat_minor": 0,
  "metadata": {
    "colab": {
      "name": "20200326.ipynb",
      "provenance": [],
      "authorship_tag": "ABX9TyNB1ao9912hDVeGhnIFhyu5",
      "include_colab_link": true
    },
    "kernelspec": {
      "name": "python3",
      "display_name": "Python 3"
    }
  },
  "cells": [
    {
      "cell_type": "markdown",
      "metadata": {
        "id": "view-in-github",
        "colab_type": "text"
      },
      "source": [
        "<a href=\"https://colab.research.google.com/github/brian3073456/work/blob/master/20200326.ipynb\" target=\"_parent\"><img src=\"https://colab.research.google.com/assets/colab-badge.svg\" alt=\"Open In Colab\"/></a>"
      ]
    },
    {
      "cell_type": "code",
      "metadata": {
        "id": "Hxu3eCh97Um2",
        "colab_type": "code",
        "colab": {}
      },
      "source": [
        "import numpy as np"
      ],
      "execution_count": 0,
      "outputs": []
    },
    {
      "cell_type": "code",
      "metadata": {
        "id": "CsVkgDj3fBLv",
        "colab_type": "code",
        "outputId": "fe48979d-be60-4ad8-905f-90c66948aa70",
        "colab": {
          "base_uri": "https://localhost:8080/",
          "height": 34
        }
      },
      "source": [
        "import numpy as np\n",
        "ar=np.array([2,4,6,8]);  ar.dtype"
      ],
      "execution_count": 0,
      "outputs": [
        {
          "output_type": "execute_result",
          "data": {
            "text/plain": [
              "dtype('int64')"
            ]
          },
          "metadata": {
            "tags": []
          },
          "execution_count": 1
        }
      ]
    },
    {
      "cell_type": "code",
      "metadata": {
        "id": "dR0GfBsBgaRX",
        "colab_type": "code",
        "outputId": "9a01a7af-b0b7-4625-e6dd-ff8ce23f7a1a",
        "colab": {
          "base_uri": "https://localhost:8080/",
          "height": 34
        }
      },
      "source": [
        "import numpy as np\n",
        "ar=np.array([2.,4,6,8]);\n",
        "ar.dtype"
      ],
      "execution_count": 0,
      "outputs": [
        {
          "output_type": "execute_result",
          "data": {
            "text/plain": [
              "dtype('float64')"
            ]
          },
          "metadata": {
            "tags": []
          },
          "execution_count": 3
        }
      ]
    },
    {
      "cell_type": "code",
      "metadata": {
        "id": "2YxKurQDgzg4",
        "colab_type": "code",
        "outputId": "5dd0faf9-6854-4fdc-96eb-6cf2a12c4b7d",
        "colab": {
          "base_uri": "https://localhost:8080/",
          "height": 34
        }
      },
      "source": [
        "import numpy as np\n",
        "f_ar = np.array([13,-3,8.88])\n",
        "f_ar"
      ],
      "execution_count": 0,
      "outputs": [
        {
          "output_type": "execute_result",
          "data": {
            "text/plain": [
              "array([13.  , -3.  ,  8.88])"
            ]
          },
          "metadata": {
            "tags": []
          },
          "execution_count": 4
        }
      ]
    },
    {
      "cell_type": "code",
      "metadata": {
        "id": "rcdPThNKg5Az",
        "colab_type": "code",
        "outputId": "42f68af4-fa2c-4c65-ae81-77b72c971eba",
        "colab": {
          "base_uri": "https://localhost:8080/",
          "height": 34
        }
      },
      "source": [
        "import numpy as np\n",
        "intf_ar=f_ar.astype(int)\n",
        "intf_ar"
      ],
      "execution_count": 0,
      "outputs": [
        {
          "output_type": "execute_result",
          "data": {
            "text/plain": [
              "array([13, -3,  8])"
            ]
          },
          "metadata": {
            "tags": []
          },
          "execution_count": 5
        }
      ]
    },
    {
      "cell_type": "code",
      "metadata": {
        "id": "HrF-nAjVhH0R",
        "colab_type": "code",
        "outputId": "1c40a51e-87df-4481-bb84-96b90c8a1c65",
        "colab": {
          "base_uri": "https://localhost:8080/",
          "height": 68
        }
      },
      "source": [
        "ar9 = np.eye(3);\n",
        "ar9"
      ],
      "execution_count": 0,
      "outputs": [
        {
          "output_type": "execute_result",
          "data": {
            "text/plain": [
              "array([[1., 0., 0.],\n",
              "       [0., 1., 0.],\n",
              "       [0., 0., 1.]])"
            ]
          },
          "metadata": {
            "tags": []
          },
          "execution_count": 19
        }
      ]
    },
    {
      "cell_type": "code",
      "metadata": {
        "id": "hUK3DjjYiriz",
        "colab_type": "code",
        "outputId": "7bd7d94c-1547-4d9e-9298-bceaaeb6beff",
        "colab": {
          "base_uri": "https://localhost:8080/",
          "height": 85
        }
      },
      "source": [
        "ar10=np.diag((2,1,4,6));\n",
        "ar10"
      ],
      "execution_count": 0,
      "outputs": [
        {
          "output_type": "execute_result",
          "data": {
            "text/plain": [
              "array([[2, 0, 0, 0],\n",
              "       [0, 1, 0, 0],\n",
              "       [0, 0, 4, 0],\n",
              "       [0, 0, 0, 6]])"
            ]
          },
          "metadata": {
            "tags": []
          },
          "execution_count": 20
        }
      ]
    },
    {
      "cell_type": "code",
      "metadata": {
        "id": "1ay8lWBli2MI",
        "colab_type": "code",
        "outputId": "a8e8294d-cf6d-4c84-9fc0-698cd997bcd4",
        "colab": {
          "base_uri": "https://localhost:8080/",
          "height": 68
        }
      },
      "source": [
        "np.array([range(i, i + 3) for i in [2, 4, 6]])"
      ],
      "execution_count": 0,
      "outputs": [
        {
          "output_type": "execute_result",
          "data": {
            "text/plain": [
              "array([[2, 3, 4],\n",
              "       [4, 5, 6],\n",
              "       [6, 7, 8]])"
            ]
          },
          "metadata": {
            "tags": []
          },
          "execution_count": 21
        }
      ]
    },
    {
      "cell_type": "code",
      "metadata": {
        "id": "zjdTZqINjCEC",
        "colab_type": "code",
        "outputId": "81d55153-70d0-4ac9-d748-45b0126f1063",
        "colab": {
          "base_uri": "https://localhost:8080/",
          "height": 34
        }
      },
      "source": [
        "np.tile(a, 2)"
      ],
      "execution_count": 0,
      "outputs": [
        {
          "output_type": "execute_result",
          "data": {
            "text/plain": [
              "array([0, 1, 2, 0, 1, 2])"
            ]
          },
          "metadata": {
            "tags": []
          },
          "execution_count": 23
        }
      ]
    },
    {
      "cell_type": "code",
      "metadata": {
        "id": "eflrDm__jXfY",
        "colab_type": "code",
        "outputId": "64fe869d-9f2e-4c60-f388-e4663e2c2db3",
        "colab": {
          "base_uri": "https://localhost:8080/",
          "height": 51
        }
      },
      "source": [
        "np.tile(a, (2, 2))"
      ],
      "execution_count": 0,
      "outputs": [
        {
          "output_type": "execute_result",
          "data": {
            "text/plain": [
              "array([[0, 1, 2, 0, 1, 2],\n",
              "       [0, 1, 2, 0, 1, 2]])"
            ]
          },
          "metadata": {
            "tags": []
          },
          "execution_count": 25
        }
      ]
    },
    {
      "cell_type": "code",
      "metadata": {
        "id": "97u852HejbtU",
        "colab_type": "code",
        "outputId": "01575e87-2a94-41e7-8f8d-a3f38777d372",
        "colab": {
          "base_uri": "https://localhost:8080/",
          "height": 68
        }
      },
      "source": [
        "np.tile(a, (2, 1, 2))"
      ],
      "execution_count": 0,
      "outputs": [
        {
          "output_type": "execute_result",
          "data": {
            "text/plain": [
              "array([[[0, 1, 2, 0, 1, 2]],\n",
              "\n",
              "       [[0, 1, 2, 0, 1, 2]]])"
            ]
          },
          "metadata": {
            "tags": []
          },
          "execution_count": 26
        }
      ]
    },
    {
      "cell_type": "code",
      "metadata": {
        "id": "WZb8IT7QjbwF",
        "colab_type": "code",
        "outputId": "4078d9d8-e89b-4715-be34-707b13eb3c19",
        "colab": {
          "base_uri": "https://localhost:8080/",
          "height": 51
        }
      },
      "source": [
        "np.tile(np.array([[1,2],[6,7]]),3)"
      ],
      "execution_count": 0,
      "outputs": [
        {
          "output_type": "execute_result",
          "data": {
            "text/plain": [
              "array([[1, 2, 1, 2, 1, 2],\n",
              "       [6, 7, 6, 7, 6, 7]])"
            ]
          },
          "metadata": {
            "tags": []
          },
          "execution_count": 27
        }
      ]
    },
    {
      "cell_type": "code",
      "metadata": {
        "id": "mJ8d0yGujbyv",
        "colab_type": "code",
        "outputId": "46cbf84a-821a-40cb-dc88-980f1a4be9d6",
        "colab": {
          "base_uri": "https://localhost:8080/",
          "height": 85
        }
      },
      "source": [
        "np.tile(np.array([[1,2],[6,7]]),(2,2))"
      ],
      "execution_count": 0,
      "outputs": [
        {
          "output_type": "execute_result",
          "data": {
            "text/plain": [
              "array([[1, 2, 1, 2],\n",
              "       [6, 7, 6, 7],\n",
              "       [1, 2, 1, 2],\n",
              "       [6, 7, 6, 7]])"
            ]
          },
          "metadata": {
            "tags": []
          },
          "execution_count": 28
        }
      ]
    },
    {
      "cell_type": "code",
      "metadata": {
        "id": "pxjbKid4jb1L",
        "colab_type": "code",
        "outputId": "5555242d-ec2a-4415-e4f5-664501165970",
        "colab": {
          "base_uri": "https://localhost:8080/",
          "height": 51
        }
      },
      "source": [
        "np.tile(np.array([[1,2],[6,7]]),3)"
      ],
      "execution_count": 0,
      "outputs": [
        {
          "output_type": "execute_result",
          "data": {
            "text/plain": [
              "array([[1, 2, 1, 2, 1, 2],\n",
              "       [6, 7, 6, 7, 6, 7]])"
            ]
          },
          "metadata": {
            "tags": []
          },
          "execution_count": 29
        }
      ]
    },
    {
      "cell_type": "code",
      "metadata": {
        "id": "beXkkRh5jb3Q",
        "colab_type": "code",
        "outputId": "7a5720a6-40b4-43b1-c573-e68974165549",
        "colab": {
          "base_uri": "https://localhost:8080/",
          "height": 85
        }
      },
      "source": [
        "np.tile(np.array([[1,2],[6,7]]),(2,2))"
      ],
      "execution_count": 0,
      "outputs": [
        {
          "output_type": "execute_result",
          "data": {
            "text/plain": [
              "array([[1, 2, 1, 2],\n",
              "       [6, 7, 6, 7],\n",
              "       [1, 2, 1, 2],\n",
              "       [6, 7, 6, 7]])"
            ]
          },
          "metadata": {
            "tags": []
          },
          "execution_count": 30
        }
      ]
    },
    {
      "cell_type": "code",
      "metadata": {
        "id": "oodhwBzKj4Sx",
        "colab_type": "code",
        "outputId": "21ed03aa-6eab-49a2-dcf4-d15ff2e11123",
        "colab": {
          "base_uri": "https://localhost:8080/",
          "height": 51
        }
      },
      "source": [
        "x = np.arange(2,10).reshape(2,4)\n",
        "x"
      ],
      "execution_count": 0,
      "outputs": [
        {
          "output_type": "execute_result",
          "data": {
            "text/plain": [
              "array([[2, 3, 4, 5],\n",
              "       [6, 7, 8, 9]])"
            ]
          },
          "metadata": {
            "tags": []
          },
          "execution_count": 31
        }
      ]
    },
    {
      "cell_type": "code",
      "metadata": {
        "id": "9rcZ_n2dj4W4",
        "colab_type": "code",
        "outputId": "93bd2245-dd21-47dc-c809-248ceae1ab9f",
        "colab": {
          "base_uri": "https://localhost:8080/",
          "height": 85
        }
      },
      "source": [
        "y = np.arange(2,10).reshape(4,2)\n",
        "y"
      ],
      "execution_count": 0,
      "outputs": [
        {
          "output_type": "execute_result",
          "data": {
            "text/plain": [
              "array([[2, 3],\n",
              "       [4, 5],\n",
              "       [6, 7],\n",
              "       [8, 9]])"
            ]
          },
          "metadata": {
            "tags": []
          },
          "execution_count": 32
        }
      ]
    },
    {
      "cell_type": "code",
      "metadata": {
        "id": "sZS52GtKj4Z-",
        "colab_type": "code",
        "outputId": "6fd02ee1-1af2-444d-84b8-4ac9496b53f5",
        "colab": {
          "base_uri": "https://localhost:8080/",
          "height": 51
        }
      },
      "source": [
        "ar=np.array([np.arange(1,6),np.arange(10,15)]); \n",
        "ar"
      ],
      "execution_count": 0,
      "outputs": [
        {
          "output_type": "execute_result",
          "data": {
            "text/plain": [
              "array([[ 1,  2,  3,  4,  5],\n",
              "       [10, 11, 12, 13, 14]])"
            ]
          },
          "metadata": {
            "tags": []
          },
          "execution_count": 33
        }
      ]
    },
    {
      "cell_type": "code",
      "metadata": {
        "id": "Zks5h67jj4cv",
        "colab_type": "code",
        "outputId": "b1353391-b0f5-4d6c-b7ec-219e9622e02a",
        "colab": {
          "base_uri": "https://localhost:8080/",
          "height": 34
        }
      },
      "source": [
        "ar=np.array([14,15,16]); ar.shape\n",
        "ar"
      ],
      "execution_count": 0,
      "outputs": [
        {
          "output_type": "execute_result",
          "data": {
            "text/plain": [
              "array([14, 15, 16])"
            ]
          },
          "metadata": {
            "tags": []
          },
          "execution_count": 34
        }
      ]
    },
    {
      "cell_type": "code",
      "metadata": {
        "id": "hwB0YR3Hj4fg",
        "colab_type": "code",
        "outputId": "fc5b303b-7f49-4f7d-e80e-e87aef103b67",
        "colab": {
          "base_uri": "https://localhost:8080/",
          "height": 68
        }
      },
      "source": [
        "\n",
        "ar=ar[:, np.newaxis]; ar.shape\n",
        "ar"
      ],
      "execution_count": 0,
      "outputs": [
        {
          "output_type": "execute_result",
          "data": {
            "text/plain": [
              "array([[14],\n",
              "       [15],\n",
              "       [16]])"
            ]
          },
          "metadata": {
            "tags": []
          },
          "execution_count": 35
        }
      ]
    },
    {
      "cell_type": "code",
      "metadata": {
        "id": "1rzSHWW4j4h_",
        "colab_type": "code",
        "outputId": "0c60215b-4e72-4e90-fe96-d243c5518418",
        "colab": {
          "base_uri": "https://localhost:8080/",
          "height": 34
        }
      },
      "source": [
        "x = np.arange(2,10)\n",
        "x"
      ],
      "execution_count": 0,
      "outputs": [
        {
          "output_type": "execute_result",
          "data": {
            "text/plain": [
              "array([2, 3, 4, 5, 6, 7, 8, 9])"
            ]
          },
          "metadata": {
            "tags": []
          },
          "execution_count": 36
        }
      ]
    },
    {
      "cell_type": "code",
      "metadata": {
        "id": "NVn9WNq0j4ku",
        "colab_type": "code",
        "outputId": "12fe6072-098d-48bb-d13a-ec437a06379a",
        "colab": {
          "base_uri": "https://localhost:8080/",
          "height": 68
        }
      },
      "source": [
        "ar = np.array([[2,3,4],[9,8,7],[11,12,13]]); \n",
        "ar"
      ],
      "execution_count": 0,
      "outputs": [
        {
          "output_type": "execute_result",
          "data": {
            "text/plain": [
              "array([[ 2,  3,  4],\n",
              "       [ 9,  8,  7],\n",
              "       [11, 12, 13]])"
            ]
          },
          "metadata": {
            "tags": []
          },
          "execution_count": 37
        }
      ]
    },
    {
      "cell_type": "code",
      "metadata": {
        "id": "_uw0BIJQj4ne",
        "colab_type": "code",
        "outputId": "256a59bc-8c5d-4eab-e9ac-23dbe147ce69",
        "colab": {
          "base_uri": "https://localhost:8080/",
          "height": 34
        }
      },
      "source": [
        "ar=2*np.arange(6); \n",
        "ar"
      ],
      "execution_count": 0,
      "outputs": [
        {
          "output_type": "execute_result",
          "data": {
            "text/plain": [
              "array([ 0,  2,  4,  6,  8, 10])"
            ]
          },
          "metadata": {
            "tags": []
          },
          "execution_count": 38
        }
      ]
    },
    {
      "cell_type": "code",
      "metadata": {
        "id": "QO6MtW1QknJR",
        "colab_type": "code",
        "outputId": "38e49cb9-14a9-4b0f-d277-0e0251c2184f",
        "colab": {
          "base_uri": "https://localhost:8080/",
          "height": 153
        }
      },
      "source": [
        "arr = np.empty((8, 4))\n",
        "for i in range(8):\n",
        "    arr[i] = i\n",
        "arr"
      ],
      "execution_count": 0,
      "outputs": [
        {
          "output_type": "execute_result",
          "data": {
            "text/plain": [
              "array([[0., 0., 0., 0.],\n",
              "       [1., 1., 1., 1.],\n",
              "       [2., 2., 2., 2.],\n",
              "       [3., 3., 3., 3.],\n",
              "       [4., 4., 4., 4.],\n",
              "       [5., 5., 5., 5.],\n",
              "       [6., 6., 6., 6.],\n",
              "       [7., 7., 7., 7.]])"
            ]
          },
          "metadata": {
            "tags": []
          },
          "execution_count": 40
        }
      ]
    },
    {
      "cell_type": "code",
      "metadata": {
        "id": "_A7vEP-fytlf",
        "colab_type": "code",
        "outputId": "78dc08fa-149d-48e1-9645-5a143c3e006d",
        "colab": {
          "base_uri": "https://localhost:8080/",
          "height": 34
        }
      },
      "source": [
        "import numpy as np\n",
        "\n",
        "print(np.version.version)"
      ],
      "execution_count": 0,
      "outputs": [
        {
          "output_type": "stream",
          "text": [
            "1.18.2\n"
          ],
          "name": "stdout"
        }
      ]
    },
    {
      "cell_type": "code",
      "metadata": {
        "id": "6E8JPezPz4V5",
        "colab_type": "code",
        "colab": {
          "base_uri": "https://localhost:8080/",
          "height": 50
        },
        "outputId": "e718713e-b917-4d2c-8673-a8d37e7ac507"
      },
      "source": [
        "import numpy as np\n",
        "from io import BytesIO\n",
        "data = BytesIO(\"1 2 3\\n 4 5 6\".encode())\n",
        "np.genfromtxt(data, dtype=[(_, int) for _ in \"abc\"])"
      ],
      "execution_count": 14,
      "outputs": [
        {
          "output_type": "execute_result",
          "data": {
            "text/plain": [
              "array([(1, 2, 3), (4, 5, 6)],\n",
              "      dtype=[('a', '<i8'), ('b', '<i8'), ('c', '<i8')])"
            ]
          },
          "metadata": {
            "tags": []
          },
          "execution_count": 14
        }
      ]
    },
    {
      "cell_type": "code",
      "metadata": {
        "id": "6mDn8to61hqQ",
        "colab_type": "code",
        "colab": {
          "base_uri": "https://localhost:8080/",
          "height": 50
        },
        "outputId": "3b6b8cd1-cb0e-46dc-85b2-3d6acf0a1498"
      },
      "source": [
        "convertfunc = lambda x: float(x.strip(\"%\"))\n",
        "data = \"1, 2.3%, 45.\\n6, 78.9%, 0\".encode()\n",
        "names = (\"i\", \"p\", \"n\")\n",
        "np.genfromtxt(BytesIO(data), delimiter=\",\", names=names)"
      ],
      "execution_count": 17,
      "outputs": [
        {
          "output_type": "execute_result",
          "data": {
            "text/plain": [
              "array([(1., nan, 45.), (6., nan,  0.)],\n",
              "      dtype=[('i', '<f8'), ('p', '<f8'), ('n', '<f8')])"
            ]
          },
          "metadata": {
            "tags": []
          },
          "execution_count": 17
        }
      ]
    },
    {
      "cell_type": "code",
      "metadata": {
        "id": "8SP9KpqN2pkN",
        "colab_type": "code",
        "colab": {
          "base_uri": "https://localhost:8080/",
          "height": 34
        },
        "outputId": "f169ceb2-3bde-4a4e-db53-4809e5ee353c"
      },
      "source": [
        "!ls"
      ],
      "execution_count": 18,
      "outputs": [
        {
          "output_type": "stream",
          "text": [
            "data.txt  data.txt.1  sample_data\n"
          ],
          "name": "stdout"
        }
      ]
    },
    {
      "cell_type": "code",
      "metadata": {
        "id": "9qGQ3zYp2tpV",
        "colab_type": "code",
        "colab": {
          "base_uri": "https://localhost:8080/",
          "height": 202
        },
        "outputId": "bb1fd924-96e3-4c62-d029-bc81bf7711c3"
      },
      "source": [
        "cat data.txt.1"
      ],
      "execution_count": 19,
      "outputs": [
        {
          "output_type": "stream",
          "text": [
            "index   x  errx   y     erry\r\n",
            "    0   1.0  0.1      4.9   0.5\r\n",
            " 1  2.0   0.1    6.9  0.5\r\n",
            "2   3.0  0.1     9.0      0.5\r\n",
            "  3   4.0    0.1  11.1   0.6\r\n",
            "   4  5.0   0.1  13.2   0.6\r\n",
            " 5  6.0   0.2    15.2     0.8\r\n",
            "6 7.0 0.2  16.9    0.8\r\n",
            "  7  8.0  0.2     18.9      0.8\r\n",
            " 8    9.0   0.2  20.9   0.8\r\n",
            "9   10.0  0.2   22.8    0.8"
          ],
          "name": "stdout"
        }
      ]
    },
    {
      "cell_type": "code",
      "metadata": {
        "id": "hk-50eSw2yht",
        "colab_type": "code",
        "colab": {
          "base_uri": "https://localhost:8080/",
          "height": 362
        },
        "outputId": "d922493d-aab6-49ad-b180-9a7abbf84276"
      },
      "source": [
        "import numpy as np\n",
        "from scipy.optimize import curve_fit\n",
        "import matplotlib.pyplot as plt\n",
        "\n",
        "\n",
        "x, errx, y, erry = np.genfromtxt('data.txt.1', dtype=float, unpack=True, skip_header=1, usecols=(1, 2, 3, 4))\n",
        "\n",
        "\n",
        "popt, pcov = curve_fit(lambda x, a, b: a*x+b, x, y, sigma=erry, absolute_sigma=True)\n",
        "\n",
        "print(\"slope: %.12f +/- %.12f\" % (popt[0], np.sqrt(pcov[0, 0])))\n",
        "print(\"intercept: %.12f +/- %.12f\" % (popt[1], np.sqrt(pcov[1, 1])))\n",
        "\n",
        "\n",
        "cor = np.corrcoef(x, y)[0, 1]\n",
        "print(\"r-squared: %.12f\" % cor**2)\n",
        "\n",
        "\n",
        "plt.figure(figsize=(6, 4.5), dpi=72)\n",
        "plt.xlabel('x', fontsize=14)\n",
        "plt.ylabel('y', fontsize=14)\n",
        "plt.grid(color='grey', linestyle='--', linewidth=1)\n",
        "plt.plot(x, y, color='blue', marker='o', markersize=10, linestyle='')\n",
        "\n",
        "plt.errorbar(x, y, xerr=errx, yerr=erry, color='black', fmt='o', capsize=4, markersize=0, linewidth=1)\n",
        "\n",
        "line = popt[0]*x + popt[1]\n",
        "plt.plot(x, line, color='red', marker='', linestyle='-', linewidth=2)\n",
        "\n",
        "\n",
        "plt.savefig('genfromtxt.svg')\n",
        "plt.savefig('genfromtxt.png')\n",
        "plt.show()"
      ],
      "execution_count": 21,
      "outputs": [
        {
          "output_type": "stream",
          "text": [
            "slope: 1.997966995944 +/- 0.071531035658\n",
            "intercept: 2.991771672485 +/- 0.371842522314\n",
            "r-squared: 0.999497575579\n"
          ],
          "name": "stdout"
        },
        {
          "output_type": "display_data",
          "data": {
            "image/png": "[encoded data removed]",
            "text/plain": [
              "<Figure size 432x324 with 1 Axes>"
            ]
          },
          "metadata": {
            "tags": []
          }
        }
      ]
    },
    {
      "cell_type": "code",
      "metadata": {
        "id": "Vy2eJO-z4O5P",
        "colab_type": "code",
        "colab": {
          "base_uri": "https://localhost:8080/",
          "height": 202
        },
        "outputId": "1502c807-7954-4dc8-f5c9-1c0464ebc80f"
      },
      "source": [
        "!wget https://raw.githubusercontent.com/brian3073456/work/master/data1.txt"
      ],
      "execution_count": 22,
      "outputs": [
        {
          "output_type": "stream",
          "text": [
            "--2020-03-26 12:46:24--  https://raw.githubusercontent.com/brian3073456/work/master/data1.txt\n",
            "Resolving raw.githubusercontent.com (raw.githubusercontent.com)... 151.101.0.133, 151.101.64.133, 151.101.128.133, ...\n",
            "Connecting to raw.githubusercontent.com (raw.githubusercontent.com)|151.101.0.133|:443... connected.\n",
            "HTTP request sent, awaiting response... 200 OK\n",
            "Length: 327 [text/plain]\n",
            "Saving to: ‘data1.txt’\n",
            "\n",
            "\rdata1.txt             0%[                    ]       0  --.-KB/s               \rdata1.txt           100%[===================>]     327  --.-KB/s    in 0s      \n",
            "\n",
            "2020-03-26 12:46:24 (64.9 MB/s) - ‘data1.txt’ saved [327/327]\n",
            "\n"
          ],
          "name": "stdout"
        }
      ]
    },
    {
      "cell_type": "code",
      "metadata": {
        "id": "47cptMj54SeV",
        "colab_type": "code",
        "colab": {
          "base_uri": "https://localhost:8080/",
          "height": 362
        },
        "outputId": "9eec9dd3-eb33-4e70-84e8-f4762dd6b33b"
      },
      "source": [
        "import numpy as np\n",
        "from scipy.optimize import curve_fit\n",
        "import matplotlib.pyplot as plt\n",
        "\n",
        "\n",
        "x, errx, y, erry = np.genfromtxt('data1.txt', dtype=float, unpack=True, skip_header=1, usecols=(1, 2, 3, 4))\n",
        "\n",
        "\n",
        "popt, pcov = curve_fit(lambda x, a, b: a*x+b, x, y, sigma=erry, absolute_sigma=True)\n",
        "\n",
        "print(\"slope: %.12f +/- %.12f\" % (popt[0], np.sqrt(pcov[0, 0])))\n",
        "print(\"intercept: %.12f +/- %.12f\" % (popt[1], np.sqrt(pcov[1, 1])))\n",
        "\n",
        "\n",
        "cor = np.corrcoef(x, y)[0, 1]\n",
        "print(\"r-squared: %.12f\" % cor**2)\n",
        "\n",
        "\n",
        "plt.figure(figsize=(6, 4.5), dpi=72)\n",
        "plt.xlabel('x', fontsize=14)\n",
        "plt.ylabel('y', fontsize=14)\n",
        "plt.grid(color='grey', linestyle='--', linewidth=1)\n",
        "plt.plot(x, y, color='blue', marker='o', markersize=10, linestyle='')\n",
        "\n",
        "plt.errorbar(x, y, xerr=errx, yerr=erry, color='black', fmt='o', capsize=4, markersize=0, linewidth=1)\n",
        "\n",
        "line = popt[0]*x + popt[1]\n",
        "plt.plot(x, line, color='red', marker='', linestyle='-', linewidth=2)\n",
        "\n",
        "\n",
        "plt.savefig('genfromtxt.svg')\n",
        "plt.savefig('genfromtxt.png')\n",
        "plt.show()"
      ],
      "execution_count": 25,
      "outputs": [
        {
          "output_type": "stream",
          "text": [
            "slope: 1.987683034712 +/- 0.084306448959\n",
            "intercept: 3.060307645094 +/- 0.476119156452\n",
            "r-squared: 0.999419265603\n"
          ],
          "name": "stdout"
        },
        {
          "output_type": "display_data",
          "data": {
            "image/png": "[encoded data removed]",
            "text/plain": [
              "<Figure size 432x324 with 1 Axes>"
            ]
          },
          "metadata": {
            "tags": []
          }
        }
      ]
    },
    {
      "cell_type": "code",
      "metadata": {
        "id": "FVS5SrNN5UPk",
        "colab_type": "code",
        "colab": {
          "base_uri": "https://localhost:8080/",
          "height": 1000
        },
        "outputId": "e319e167-8bd7-4603-d7a6-78559b23a0f0"
      },
      "source": [
        "import numpy as np\n",
        "table = np.genfromtxt('satellites.csv', delimiter=',', autostrip=True, comments=\"#\")\n",
        "table"
      ],
      "execution_count": 33,
      "outputs": [
        {
          "output_type": "execute_result",
          "data": {
            "text/plain": [
              "array([[          nan,           nan,           nan,           nan,\n",
              "                  nan],\n",
              "       [          nan, 1.7371000e+03, 3.8439900e+05, 2.7321582e+01,\n",
              "                  nan],\n",
              "       [          nan, 1.1100000e+01, 9.3800000e+03, 3.1900000e-01,\n",
              "                  nan],\n",
              "       [          nan, 6.2000000e+00, 2.3460000e+04, 1.2620000e+00,\n",
              "                  nan],\n",
              "       [          nan, 1.8181000e+03, 4.2180000e+05, 1.7690000e+00,\n",
              "                  nan],\n",
              "       [          nan, 1.5607000e+03, 6.7110000e+05, 3.5510000e+00,\n",
              "                  nan],\n",
              "       [          nan, 2.6341000e+03, 1.0704000e+06, 7.1550000e+00,\n",
              "                  nan],\n",
              "       [          nan, 2.4084000e+03, 1.8827000e+06, 1.6690000e+01,\n",
              "                  nan],\n",
              "       [          nan, 8.3450000e+01, 1.8140000e+05, 4.9800000e-01,\n",
              "                  nan],\n",
              "       [          nan, 6.7000000e+01, 1.1461000e+07, 2.5056000e+02,\n",
              "                  nan],\n",
              "       [          nan, 4.3000000e+01, 1.1741000e+07, 2.5964000e+02,\n",
              "                  nan],\n",
              "       [          nan, 3.0000000e+01, 2.3624000e+07, 7.4363000e+02,\n",
              "                  nan],\n",
              "       [          nan, 1.9000000e+01, 2.3939000e+07, 7.5890000e+02,\n",
              "                  nan],\n",
              "       [          nan, 1.8000000e+01, 1.1717000e+07, 2.5920000e+02,\n",
              "                  nan],\n",
              "       [          nan, 2.3000000e+01, 2.3404000e+07, 7.3417000e+02,\n",
              "                  nan],\n",
              "       [          nan, 1.4000000e+01, 2.1276000e+07, 6.2977000e+02,\n",
              "                  nan],\n",
              "       [          nan, 1.0000000e+01, 1.1165000e+07, 2.4092000e+02,\n",
              "                  nan],\n",
              "       [          nan, 4.9300000e+01, 2.2190000e+05, 6.7500000e-01,\n",
              "                  nan],\n",
              "       [          nan, 8.2000000e+00, 1.2900000e+05, 2.9800000e-01,\n",
              "                  nan],\n",
              "       [          nan, 2.1500000e+01, 1.2800000e+05, 2.9500000e-01,\n",
              "                  nan],\n",
              "       [          nan, 4.3000000e+00, 2.4103000e+07, 7.5877000e+02,\n",
              "                  nan],\n",
              "       [          nan, 4.0000000e+00, 7.2840000e+06, 1.3002000e+02,\n",
              "                  nan],\n",
              "       [          nan, 2.7000000e+00, 2.3493000e+07, 7.5286000e+02,\n",
              "                  nan],\n",
              "       [          nan, 2.5000000e+00, 2.3280000e+07, 7.3241000e+02,\n",
              "                  nan],\n",
              "       [          nan, 1.9000000e+00, 2.3100000e+07, 7.2372000e+02,\n",
              "                  nan],\n",
              "       [          nan, 2.2000000e+00, 2.0858000e+07, 6.2332000e+02,\n",
              "                  nan],\n",
              "       [          nan, 2.6000000e+00, 2.3483000e+07, 7.4206000e+02,\n",
              "                  nan],\n",
              "       [          nan, 2.6000000e+00, 2.1060000e+07, 6.3160000e+02,\n",
              "                  nan],\n",
              "       [          nan, 1.6000000e+00, 2.3196000e+07, 7.2846000e+02,\n",
              "                  nan],\n",
              "       [          nan, 1.9000000e+00, 2.3155000e+07, 7.2623000e+02,\n",
              "                  nan],\n",
              "       [          nan, 3.4000000e+00, 2.0908000e+07, 6.2539000e+02,\n",
              "                  nan],\n",
              "       [          nan, 2.0000000e+00, 2.4046000e+07, 7.6095000e+02,\n",
              "                  nan],\n",
              "       [          nan, 2.0000000e+00, 2.0939000e+07, 6.2721000e+02,\n",
              "                  nan],\n",
              "       [          nan, 2.0000000e+00, 2.1131000e+07, 6.3390000e+02,\n",
              "                  nan],\n",
              "       [          nan, 1.5000000e+00, 2.3229000e+07, 7.3018000e+02,\n",
              "                  nan],\n",
              "       [          nan, 1.5000000e+00, 2.2865000e+07, 7.1733000e+02,\n",
              "                  nan],\n",
              "       [          nan, 1.5000000e+00, 2.0797000e+07, 6.2049000e+02,\n",
              "                  nan],\n",
              "       [          nan, 1.0000000e+00, 1.9304000e+07, 5.5074000e+02,\n",
              "                  nan],\n",
              "       [          nan, 1.0000000e+00, 2.0720000e+07, 6.2256000e+02,\n",
              "                  nan],\n",
              "       [          nan, 1.0000000e+00, 2.3487000e+07, 7.4834000e+02,\n",
              "                  nan],\n",
              "       [          nan, 1.0000000e+00, 2.3217000e+07, 7.2947000e+02,\n",
              "                  nan],\n",
              "       [          nan, 1.0000000e+00, 2.3004000e+07, 7.1944000e+02,\n",
              "                  nan],\n",
              "       [          nan, 1.5000000e+00, 2.3577000e+07, 7.3988000e+02,\n",
              "                  nan],\n",
              "       [          nan, 1.0000000e+00, 2.1035000e+07, 6.2004000e+02,\n",
              "                  nan],\n",
              "       [          nan, 2.0000000e+00, 2.3980000e+07, 7.6150000e+02,\n",
              "                  nan],\n",
              "       [          nan, 1.0000000e+00, 2.1164000e+07, 6.2809000e+02,\n",
              "                  nan],\n",
              "       [          nan, 1.5000000e+00, 2.3355000e+07, 7.3195000e+02,\n",
              "                  nan],\n",
              "       [          nan, 1.0000000e+00, 2.3288000e+07, 7.2873000e+02,\n",
              "                  nan],\n",
              "       [          nan, 2.0000000e+00, 2.1069000e+07, 6.2632000e+02,\n",
              "                  nan],\n",
              "       [          nan, 1.5000000e+00, 1.7058000e+07, 4.5630000e+02,\n",
              "                  nan],\n",
              "       [          nan, 2.0000000e+00, 2.3328000e+07, 7.3047000e+02,\n",
              "                  nan],\n",
              "       [          nan, 1.0000000e+00, 2.3809000e+07, 7.5200000e+02,\n",
              "                  nan],\n",
              "       [          nan, 1.0000000e+00, 2.4543000e+07, 7.7917000e+02,\n",
              "                  nan],\n",
              "       [          nan, 1.0000000e+00, 2.2983000e+07, 7.1451000e+02,\n",
              "                  nan],\n",
              "       [          nan, 1.0000000e+00, 2.3314335e+07, 7.2320000e+02,\n",
              "                  nan],\n",
              "       [          nan, 5.0000000e-01, 2.0307150e+07, 5.8810000e+02,\n",
              "                  nan],\n",
              "       [          nan, 2.0000000e+00, 1.2570000e+07, 2.8793000e+02,\n",
              "                  nan],\n",
              "       [          nan, 3.0000000e+00, 2.0595480e+07, 6.0270000e+02,\n",
              "                  nan],\n",
              "       [          nan, 1.0000000e+00, 2.0426000e+07, 5.9658000e+02,\n",
              "                  nan],\n",
              "       [          nan, 5.0000000e-01, 2.3329710e+07, 7.2680000e+02,\n",
              "                  nan],\n",
              "       [          nan, 2.0000000e+00, 2.3498000e+07, 7.3874000e+02,\n",
              "                  nan],\n",
              "       [          nan, 1.0000000e+00, 2.2630000e+07, 6.8977000e+02,\n",
              "                  nan],\n",
              "       [          nan, 2.0000000e+00, 2.3483978e+07, 7.3420000e+02,\n",
              "                  nan],\n",
              "       [          nan, 1.0000000e+00, 2.0224000e+07, 5.8388000e+02,\n",
              "                  nan],\n",
              "       [          nan, 1.0000000e+00, 2.8455000e+07, 9.8155000e+02,\n",
              "                  nan],\n",
              "       [          nan, 1.0000000e+00, 2.3933000e+07, 7.5526000e+02,\n",
              "                  nan],\n",
              "       [          nan, 5.0000000e-01, 2.3388000e+07, 7.3330000e+02,\n",
              "                  nan],\n",
              "       [          nan, 1.0000000e+00, 2.3044000e+07, 7.1625000e+02,\n",
              "                  nan],\n",
              "       [          nan, 5.0000000e-01, 1.7833000e+07, 4.8972000e+02,\n",
              "                  nan],\n",
              "       [          nan, 1.0000000e+00, 2.0956000e+07, 6.1633000e+02,\n",
              "                  nan],\n",
              "       [          nan, 1.0000000e+00, 2.3535000e+07, 7.4043000e+02,\n",
              "                  nan],\n",
              "       [          nan, 1.0000000e+00, 2.3566000e+07, 7.3245000e+02,\n",
              "                  nan],\n",
              "       [          nan, 5.0000000e-01, 2.0155290e+07, 5.8070000e+02,\n",
              "                  nan],\n",
              "       [          nan, 5.0000000e-01, 1.8928095e+07, 5.3200000e+02,\n",
              "                  nan],\n",
              "       [          nan, 1.0000000e+00, 2.3240957e+07, 7.2380000e+02,\n",
              "                  nan],\n",
              "       [          nan, 1.0000000e+00, 2.0639315e+07, 6.0580000e+02,\n",
              "                  nan],\n",
              "       [          nan, 1.0000000e+00, 1.1494801e+07, 2.5180000e+02,\n",
              "                  nan],\n",
              "       [          nan, 1.0000000e+00, 2.3169389e+07, 7.2050000e+02,\n",
              "                  nan],\n",
              "       [          nan, 1.0000000e+00, 2.2394682e+07, 6.8470000e+02,\n",
              "                  nan],\n",
              "       [          nan, 1.0000000e+00, 2.0571458e+07, 6.0280000e+02,\n",
              "                  nan],\n",
              "       [          nan, 5.0000000e-01, 2.3174446e+07, 7.2070000e+02,\n",
              "                  nan],\n",
              "       [          nan, 1.0000000e+00, 2.1429955e+07, 6.4090000e+02,\n",
              "                  nan],\n",
              "       [          nan, 1.0000000e+00, 1.1453004e+07, 2.5040000e+02,\n",
              "                  nan],\n",
              "       [          nan, 1.9820000e+02, 1.8554000e+05, 9.4200000e-01,\n",
              "                  nan],\n",
              "       [          nan, 2.5230000e+02, 2.3804000e+05, 1.3700000e+00,\n",
              "                  nan],\n",
              "       [          nan, 5.3630000e+02, 2.9467000e+05, 1.8880000e+00,\n",
              "                  nan],\n",
              "       [          nan, 5.6250000e+02, 3.7742000e+05, 2.7370000e+00,\n",
              "                  nan],\n",
              "       [          nan, 7.6450000e+02, 5.2707000e+05, 4.5180000e+00,\n",
              "                  nan],\n",
              "       [          nan, 2.5755000e+03, 1.2218700e+06, 1.5950000e+01,\n",
              "                  nan],\n",
              "       [          nan, 1.3300000e+02, 1.5008800e+06, 2.1280000e+01,\n",
              "                  nan],\n",
              "       [          nan, 7.3450000e+02, 3.5608400e+06, 7.9330000e+01,\n",
              "                  nan],\n",
              "       [          nan, 1.0660000e+02, 1.2947780e+07, 5.5031000e+02,\n",
              "                  nan],\n",
              "       [          nan, 9.0400000e+01, 1.5146000e+05, 6.9500000e-01,\n",
              "                  nan],\n",
              "       [          nan, 5.8300000e+01, 1.5141000e+05, 6.9400000e-01,\n",
              "                  nan],\n",
              "       [          nan, 1.6000000e+01, 3.7742000e+05, 2.7370000e+00,\n",
              "                  nan],\n",
              "       [          nan, 1.2000000e+01, 2.9471000e+05, 1.8880000e+00,\n",
              "                  nan],\n",
              "       [          nan, 9.5000000e+00, 2.9471000e+05, 1.8880000e+00,\n",
              "                  nan],\n",
              "       [          nan, 1.5300000e+01, 1.3767000e+05, 6.0200000e-01,\n",
              "                  nan],\n",
              "       [          nan, 4.6800000e+01, 1.3938000e+05, 6.1300000e-01,\n",
              "                  nan],\n",
              "       [          nan, 4.0600000e+01, 1.4172000e+05, 6.2900000e-01,\n",
              "                  nan],\n",
              "       [          nan, 1.2800000e+01, 1.3358000e+05, 5.7500000e-01,\n",
              "                  nan],\n",
              "       [          nan, 9.0000000e+00, 2.3140400e+07, 1.3155800e+03,\n",
              "                  nan],\n",
              "       [          nan, 1.1000000e+01, 1.5200000e+07, 6.8695000e+02,\n",
              "                  nan],\n",
              "       [          nan, 7.5000000e+00, 1.7983000e+07, 9.2623000e+02,\n",
              "                  nan],\n",
              "       [          nan, 6.0000000e+00, 1.1124000e+07, 4.5142000e+02,\n",
              "                  nan],\n",
              "       [          nan, 3.5000000e+00, 1.9459000e+07, 1.0166700e+03,\n",
              "                  nan],\n",
              "       [          nan, 8.0000000e+00, 1.1110000e+07, 4.4922000e+02,\n",
              "                  nan],\n",
              "       [          nan, 3.5000000e+00, 1.8628000e+07, 9.5277000e+02,\n",
              "                  nan],\n",
              "       [          nan, 1.6000000e+01, 1.6182000e+07, 7.8345000e+02,\n",
              "                  nan],\n",
              "       [          nan, 4.0000000e+00, 1.5540000e+07, 7.2820000e+02,\n",
              "                  nan],\n",
              "       [          nan, 5.0000000e+00, 1.7343000e+07, 8.7119000e+02,\n",
              "                  nan],\n",
              "       [          nan, 2.0000000e+01, 1.8015400e+07, 8.9644000e+02,\n",
              "                  nan],\n",
              "       [          nan, 3.5000000e+00, 2.0314000e+07, 1.0941100e+03,\n",
              "                  nan],\n",
              "       [          nan, 3.5000000e+00, 1.9007000e+07, 1.0038600e+03,\n",
              "                  nan],\n",
              "       [          nan, 1.6000000e+00, 1.9444000e+05, 1.0100000e+00,\n",
              "                  nan],\n",
              "       [          nan, 2.0000000e+00, 2.1228000e+05, 1.1540000e+00,\n",
              "                  nan],\n",
              "       [          nan, 1.2500000e+00, 3.7720000e+05, 2.7370000e+00,\n",
              "                  nan],\n",
              "       [          nan, 3.0000000e+00, 1.3650000e+05, 5.9400000e-01,\n",
              "                  nan],\n",
              "       [          nan, 3.0000000e+00, 2.0751000e+07, 1.1175200e+03,\n",
              "                  nan],\n",
              "       [          nan, 3.0000000e+00, 1.7119000e+07, 8.3484000e+02,\n",
              "                  nan],\n",
              "       [          nan, 3.0000000e+00, 1.9336000e+07, 1.0057400e+03,\n",
              "                  nan],\n",
              "       [          nan, 3.5000000e+00, 2.0192000e+07, 1.0887200e+03,\n",
              "                  nan],\n",
              "       [          nan, 2.5000000e+00, 2.0377000e+07, 1.0855500e+03,\n",
              "                  nan],\n",
              "       [          nan, 2.0000000e+00, 2.2454000e+07, 1.2603500e+03,\n",
              "                  nan],\n",
              "       [          nan, 3.0000000e+00, 2.5146000e+07, 1.4942000e+03,\n",
              "                  nan],\n",
              "       [          nan, 3.0000000e+00, 1.9846000e+07, 1.0386100e+03,\n",
              "                  nan],\n",
              "       [          nan, 4.0000000e+00, 1.8437000e+07, 9.3186000e+02,\n",
              "                  nan],\n",
              "       [          nan, 3.5000000e+00, 2.2089000e+07, 1.2309700e+03,\n",
              "                  nan],\n",
              "       [          nan, 3.0000000e+00, 2.3058000e+07, 1.3113600e+03,\n",
              "                  nan],\n",
              "       [          nan, 3.0000000e+00, 1.7665000e+07, 8.7829000e+02,\n",
              "                  nan],\n",
              "       [          nan, 3.0000000e+00, 2.2704000e+07, 1.2973600e+03,\n",
              "                  nan],\n",
              "       [          nan, 1.0000000e+00, 1.9770000e+05, 1.0365000e+00,\n",
              "                  nan],\n",
              "       [          nan, 3.0000000e+00, 1.8811000e+07, 9.6474000e+02,\n",
              "                  nan],\n",
              "       [          nan, 3.0000000e+00, 1.8206000e+07, 9.2119000e+02,\n",
              "                  nan],\n",
              "       [          nan, 3.5000000e+00, 1.8009000e+07, 8.8748000e+02,\n",
              "                  nan],\n",
              "       [          nan, 2.5000000e-01, 1.6750000e+05, 8.0800000e-01,\n",
              "                  nan],\n",
              "       [          nan, 3.0000000e+00, 2.0999000e+07, 1.1402400e+03,\n",
              "                  nan],\n",
              "       [          nan, 2.5000000e+00, 1.9878000e+07, 1.0461900e+03,\n",
              "                  nan],\n",
              "       [          nan, 3.0000000e+00, 1.8404000e+07, 9.3348000e+02,\n",
              "                  nan],\n",
              "       [          nan, 2.0000000e+00, 1.9447000e+07, 1.0147000e+03,\n",
              "                  nan],\n",
              "       [          nan, 3.0000000e+00, 1.8790000e+07, 9.6337000e+02,\n",
              "                  nan],\n",
              "       [          nan, 3.0000000e+00, 2.2096000e+07, 1.2272100e+03,\n",
              "                  nan],\n",
              "       [          nan, 3.0000000e+00, 1.6725000e+07, 8.0808000e+02,\n",
              "                  nan],\n",
              "       [          nan, 3.0000000e+00, 1.8975000e+07, 9.7780000e+02,\n",
              "                  nan],\n",
              "       [          nan, 1.5000000e-01, 1.1700000e+05, 4.7100000e-01,\n",
              "                  nan],\n",
              "       [          nan, 5.7890000e+02, 1.9090000e+05, 2.5200000e+00,\n",
              "                  nan],\n",
              "       [          nan, 5.8470000e+02, 2.6600000e+05, 4.1440000e+00,\n",
              "                  nan],\n",
              "       [          nan, 7.8890000e+02, 4.3630000e+05, 8.7060000e+00,\n",
              "                  nan],\n",
              "       [          nan, 7.6140000e+02, 5.8350000e+05, 1.3460000e+01,\n",
              "                  nan],\n",
              "       [          nan, 2.3580000e+02, 1.2990000e+05, 1.4130000e+00,\n",
              "                  nan],\n",
              "       [          nan, 2.0100000e+01, 4.9800000e+04, 3.3500000e-01,\n",
              "                  nan],\n",
              "       [          nan, 2.1400000e+01, 5.3800000e+04, 3.7600000e-01,\n",
              "                  nan],\n",
              "       [          nan, 2.5700000e+01, 5.9200000e+04, 4.3500000e-01,\n",
              "                  nan],\n",
              "       [          nan, 3.9800000e+01, 6.1800000e+04, 4.6400000e-01,\n",
              "                  nan],\n",
              "       [          nan, 3.2000000e+01, 6.2700000e+04, 4.7400000e-01,\n",
              "                  nan],\n",
              "       [          nan, 4.6800000e+01, 6.4400000e+04, 4.9300000e-01,\n",
              "                  nan],\n",
              "       [          nan, 6.7600000e+01, 6.6100000e+04, 5.1300000e-01,\n",
              "                  nan],\n",
              "       [          nan, 3.6000000e+01, 6.9900000e+04, 5.5800000e-01,\n",
              "                  nan],\n",
              "       [          nan, 4.0300000e+01, 7.5300000e+04, 6.2400000e-01,\n",
              "                  nan],\n",
              "       [          nan, 8.1000000e+01, 8.6000000e+04, 7.6200000e-01,\n",
              "                  nan],\n",
              "       [          nan, 4.9000000e+01, 7.2311000e+06, 5.7973000e+02,\n",
              "                  nan],\n",
              "       [          nan, 7.5000000e+01, 1.2179400e+07, 1.2883800e+03,\n",
              "                  nan],\n",
              "       [          nan, 2.5000000e+01, 1.6256000e+07, 1.9782900e+03,\n",
              "                  nan],\n",
              "       [          nan, 2.4000000e+01, 1.7418000e+07, 2.2252100e+03,\n",
              "                  nan],\n",
              "       [          nan, 1.0000000e+01, 8.0040000e+06, 6.7736000e+02,\n",
              "                  nan],\n",
              "       [          nan, 5.0000000e+00, 8.5040000e+06, 7.4924000e+02,\n",
              "                  nan],\n",
              "       [          nan, 6.0000000e+00, 4.2760000e+06, 2.6656000e+02,\n",
              "                  nan],\n",
              "       [          nan, 5.5000000e+00, 1.4345000e+07, 1.6870100e+03,\n",
              "                  nan],\n",
              "       [          nan, 6.0000000e+00, 2.0901000e+07, 2.8872100e+03,\n",
              "                  nan],\n",
              "       [          nan, 1.0000000e+01, 7.6417000e+04, 6.3800000e-01,\n",
              "                  nan],\n",
              "       [          nan, 5.0000000e+00, 9.7736000e+04, 9.2300000e-01,\n",
              "                  nan],\n",
              "       [          nan, 5.0000000e+00, 7.4392000e+04, 6.1300000e-01,\n",
              "                  nan],\n",
              "       [          nan, 1.3534000e+03, 3.5480000e+05, 5.8770000e+00,\n",
              "                  nan],\n",
              "       [          nan, 1.7000000e+02, 5.5138200e+06, 3.6014000e+02,\n",
              "                  nan],\n",
              "       [          nan, 3.3000000e+01, 4.8227000e+04, 2.9400000e-01,\n",
              "                  nan],\n",
              "       [          nan, 4.1000000e+01, 5.0075000e+04, 3.1100000e-01,\n",
              "                  nan],\n",
              "       [          nan, 7.5000000e+01, 5.2526000e+04, 3.3500000e-01,\n",
              "                  nan],\n",
              "       [          nan, 8.8000000e+01, 6.1953000e+04, 4.2900000e-01,\n",
              "                  nan],\n",
              "       [          nan, 9.7000000e+01, 7.3548000e+04, 5.5500000e-01,\n",
              "                  nan],\n",
              "       [          nan, 2.1000000e+02, 1.1764700e+05, 1.1220000e+00,\n",
              "                  nan],\n",
              "       [          nan, 3.1000000e+01, 1.5728000e+07, 1.8797100e+03,\n",
              "                  nan],\n",
              "       [          nan, 2.0000000e+01, 4.6695000e+07, 9.1159100e+03,\n",
              "                  nan],\n",
              "       [          nan, 2.2000000e+01, 2.2422000e+07, 2.9140700e+03,\n",
              "                  nan],\n",
              "       [          nan, 2.1000000e+01, 2.3571000e+07, 3.1678500e+03,\n",
              "                  nan],\n",
              "       [          nan, 3.0000000e+01, 4.8387000e+07, 9.3739900e+03,\n",
              "                  nan],\n",
              "       [          nan, 8.0000000e+00, 1.0528300e+05, 9.3620000e-01,\n",
              "                  nan],\n",
              "       [          nan, 6.0360000e+02, 1.9591000e+04, 6.3870000e+00,\n",
              "                  nan],\n",
              "       [          nan, 2.3000000e+01, 4.8671000e+04, 2.4850000e+01,\n",
              "                  nan],\n",
              "       [          nan, 3.0500000e+01, 6.4698000e+04, 3.8200000e+01,\n",
              "                  nan],\n",
              "       [          nan, 1.4000000e+01, 5.7729000e+04, 3.2170000e+01,\n",
              "                  nan],\n",
              "       [          nan, 1.0000000e+01, 4.2393000e+04, 2.0160000e+01,\n",
              "                  nan],\n",
              "       [          nan, 1.6000000e+02, 4.9500000e+04, 4.9120000e+01,\n",
              "                  nan],\n",
              "       [          nan, 8.5000000e+01, 3.9000000e+04, 3.4700000e+01,\n",
              "                  nan],\n",
              "       [          nan, 2.5700000e+02, 3.7370000e+04, 1.5774000e+01,\n",
              "                  nan]])"
            ]
          },
          "metadata": {
            "tags": []
          },
          "execution_count": 33
        }
      ]
    }
  ]
}